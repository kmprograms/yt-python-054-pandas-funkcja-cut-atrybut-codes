{
 "cells": [
  {
   "cell_type": "code",
   "execution_count": 6,
   "id": "initial_id",
   "metadata": {
    "collapsed": true,
    "ExecuteTime": {
     "end_time": "2023-10-03T10:57:21.997634500Z",
     "start_time": "2023-10-03T10:57:21.980864400Z"
    }
   },
   "outputs": [],
   "source": [
    "import pandas as pd"
   ]
  },
  {
   "cell_type": "code",
   "execution_count": 9,
   "outputs": [
    {
     "name": "stdout",
     "output_type": "stream",
     "text": [
      "    name  score\n",
      "0   Anna      0\n",
      "1   John     59\n",
      "2  Lucas     60\n",
      "3   Mila     76\n",
      "4    Eva    100\n"
     ]
    },
    {
     "data": {
      "text/plain": "    name  score           grade\n0   Anna      0  niedostateczny\n1   John     59  niedostateczny\n2  Lucas     60     dostateczny\n3   Mila     76           dobry\n4    Eva    100    bardzo dobry",
      "text/html": "<div>\n<style scoped>\n    .dataframe tbody tr th:only-of-type {\n        vertical-align: middle;\n    }\n\n    .dataframe tbody tr th {\n        vertical-align: top;\n    }\n\n    .dataframe thead th {\n        text-align: right;\n    }\n</style>\n<table border=\"1\" class=\"dataframe\">\n  <thead>\n    <tr style=\"text-align: right;\">\n      <th></th>\n      <th>name</th>\n      <th>score</th>\n      <th>grade</th>\n    </tr>\n  </thead>\n  <tbody>\n    <tr>\n      <th>0</th>\n      <td>Anna</td>\n      <td>0</td>\n      <td>niedostateczny</td>\n    </tr>\n    <tr>\n      <th>1</th>\n      <td>John</td>\n      <td>59</td>\n      <td>niedostateczny</td>\n    </tr>\n    <tr>\n      <th>2</th>\n      <td>Lucas</td>\n      <td>60</td>\n      <td>dostateczny</td>\n    </tr>\n    <tr>\n      <th>3</th>\n      <td>Mila</td>\n      <td>76</td>\n      <td>dobry</td>\n    </tr>\n    <tr>\n      <th>4</th>\n      <td>Eva</td>\n      <td>100</td>\n      <td>bardzo dobry</td>\n    </tr>\n  </tbody>\n</table>\n</div>"
     },
     "execution_count": 9,
     "metadata": {},
     "output_type": "execute_result"
    }
   ],
   "source": [
    "df = pd.DataFrame({\n",
    "    'name': ['Anna', 'John', 'Lucas', 'Mila', 'Eva'],\n",
    "    # 'score': [55, 85, 78, 90, 65]\n",
    "    'score': [0, 60, 61, 76, 100]\n",
    "})\n",
    "print(df)\n",
    "\n",
    "bins = [0, 60, 75, 85, 101]  # Zmiana 100 na 101 i wtedy dla score 100 osoba ma ocenę \"bardzo dobry\"\n",
    "labels = ['niedostateczny', 'dostateczny', 'dobry', 'bardzo dobry']\n",
    "\n",
    "df['grade'] = pd.cut(df['score'], bins=bins, labels=labels, right=False)\n",
    "df\n"
   ],
   "metadata": {
    "collapsed": false,
    "ExecuteTime": {
     "end_time": "2023-10-03T11:05:45.927020900Z",
     "start_time": "2023-10-03T11:05:45.885399100Z"
    }
   },
   "id": "d37b75b3d38dfb7"
  }
 ],
 "metadata": {
  "kernelspec": {
   "display_name": "Python 3",
   "language": "python",
   "name": "python3"
  },
  "language_info": {
   "codemirror_mode": {
    "name": "ipython",
    "version": 2
   },
   "file_extension": ".py",
   "mimetype": "text/x-python",
   "name": "python",
   "nbconvert_exporter": "python",
   "pygments_lexer": "ipython2",
   "version": "2.7.6"
  }
 },
 "nbformat": 4,
 "nbformat_minor": 5
}
