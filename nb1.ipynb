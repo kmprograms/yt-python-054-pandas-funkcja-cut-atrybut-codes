{
 "cells": [
  {
   "cell_type": "code",
   "execution_count": 1,
   "id": "initial_id",
   "metadata": {
    "collapsed": true,
    "ExecuteTime": {
     "end_time": "2023-10-03T08:04:28.678680600Z",
     "start_time": "2023-10-03T08:04:28.136508600Z"
    }
   },
   "outputs": [],
   "source": [
    "import pandas as pd"
   ]
  },
  {
   "cell_type": "code",
   "execution_count": 9,
   "outputs": [
    {
     "name": "stdout",
     "output_type": "stream",
     "text": [
      "    name  score\n",
      "0   Anna     55\n",
      "1   John     85\n",
      "2  Lucas     78\n",
      "3   Mila     90\n",
      "4    Eva     65\n"
     ]
    },
    {
     "data": {
      "text/plain": "    name  score           grade\n0   Anna     55  niedostateczny\n1   John     85    bardzo dobry\n2  Lucas     78           dobry\n3   Mila     90    bardzo dobry\n4    Eva     65     dostateczny",
      "text/html": "<div>\n<style scoped>\n    .dataframe tbody tr th:only-of-type {\n        vertical-align: middle;\n    }\n\n    .dataframe tbody tr th {\n        vertical-align: top;\n    }\n\n    .dataframe thead th {\n        text-align: right;\n    }\n</style>\n<table border=\"1\" class=\"dataframe\">\n  <thead>\n    <tr style=\"text-align: right;\">\n      <th></th>\n      <th>name</th>\n      <th>score</th>\n      <th>grade</th>\n    </tr>\n  </thead>\n  <tbody>\n    <tr>\n      <th>0</th>\n      <td>Anna</td>\n      <td>55</td>\n      <td>niedostateczny</td>\n    </tr>\n    <tr>\n      <th>1</th>\n      <td>John</td>\n      <td>85</td>\n      <td>bardzo dobry</td>\n    </tr>\n    <tr>\n      <th>2</th>\n      <td>Lucas</td>\n      <td>78</td>\n      <td>dobry</td>\n    </tr>\n    <tr>\n      <th>3</th>\n      <td>Mila</td>\n      <td>90</td>\n      <td>bardzo dobry</td>\n    </tr>\n    <tr>\n      <th>4</th>\n      <td>Eva</td>\n      <td>65</td>\n      <td>dostateczny</td>\n    </tr>\n  </tbody>\n</table>\n</div>"
     },
     "execution_count": 9,
     "metadata": {},
     "output_type": "execute_result"
    }
   ],
   "source": [
    "df = pd.DataFrame({\n",
    "    'name': ['Anna', 'John', 'Lucas', 'Mila', 'Eva'],\n",
    "    'score': [55, 85, 78, 90, 65]\n",
    "})\n",
    "print(df)\n",
    "\n",
    "bins = [0, 60, 75, 85, 100]\n",
    "labels = ['niedostateczny', 'dostateczny', 'dobry', 'bardzo dobry']\n",
    "\n",
    "df['grade'] = pd.cut(df['score'], bins=bins, labels=labels, right=False)\n",
    "df\n"
   ],
   "metadata": {
    "collapsed": false,
    "ExecuteTime": {
     "end_time": "2023-10-03T08:32:06.785303200Z",
     "start_time": "2023-10-03T08:32:06.730634400Z"
    }
   },
   "id": "d37b75b3d38dfb7"
  }
 ],
 "metadata": {
  "kernelspec": {
   "display_name": "Python 3",
   "language": "python",
   "name": "python3"
  },
  "language_info": {
   "codemirror_mode": {
    "name": "ipython",
    "version": 2
   },
   "file_extension": ".py",
   "mimetype": "text/x-python",
   "name": "python",
   "nbconvert_exporter": "python",
   "pygments_lexer": "ipython2",
   "version": "2.7.6"
  }
 },
 "nbformat": 4,
 "nbformat_minor": 5
}
